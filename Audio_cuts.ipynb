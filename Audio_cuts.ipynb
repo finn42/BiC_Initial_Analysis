{
 "cells": [
  {
   "cell_type": "markdown",
   "metadata": {},
   "source": [
    "# Generate piece wise audio files\n",
    "\n",
    "One second pre audio files for each piece to one second past onset of claps? or end of song? lets See.\n",
    "\n",
    "\n",
    "https://github.com/jiaaro/pydub\n"
   ]
  },
  {
   "cell_type": "code",
   "execution_count": 1,
   "metadata": {},
   "outputs": [],
   "source": [
    "import sys\n",
    "import os\n",
    "import time\n",
    "import datetime as dt\n",
    "import math\n",
    "import numpy as np \n",
    "import scipy as sp\n",
    "import pandas as pd\n",
    "import matplotlib.pyplot as plt\n",
    "import seaborn as sns\n",
    "import json \n",
    "from scipy.signal import butter, filtfilt, argrelextrema\n",
    "from scipy import interpolate\n",
    "from scipy.interpolate import interp1d\n",
    "\n",
    "from pydub import AudioSegment"
   ]
  },
  {
   "cell_type": "code",
   "execution_count": 2,
   "metadata": {},
   "outputs": [],
   "source": [
    "# audio file locations in\n",
    "audio_loc = '../Data/Audio/Full_Zero/'\n",
    "out_loc = '../Data/Audio/Piece_wise/'\n",
    "# audio file locations out\n",
    "\n",
    "Piece_timings = pd.read_csv('./Timing/Concerttimes_Seconds.csv')\n"
   ]
  },
  {
   "cell_type": "code",
   "execution_count": 3,
   "metadata": {},
   "outputs": [],
   "source": [
    "Piece_timings = pd.read_csv('./Timing/Concerttimes_Seconds.csv')\n"
   ]
  },
  {
   "cell_type": "code",
   "execution_count": 21,
   "metadata": {},
   "outputs": [
    {
     "data": {
      "text/html": [
       "<div>\n",
       "<style scoped>\n",
       "    .dataframe tbody tr th:only-of-type {\n",
       "        vertical-align: middle;\n",
       "    }\n",
       "\n",
       "    .dataframe tbody tr th {\n",
       "        vertical-align: top;\n",
       "    }\n",
       "\n",
       "    .dataframe thead th {\n",
       "        text-align: right;\n",
       "    }\n",
       "</style>\n",
       "<table border=\"1\" class=\"dataframe\">\n",
       "  <thead>\n",
       "    <tr style=\"text-align: right;\">\n",
       "      <th></th>\n",
       "      <th>Event</th>\n",
       "      <th>Event_Type</th>\n",
       "      <th>Related</th>\n",
       "      <th>Start</th>\n",
       "      <th>Next</th>\n",
       "    </tr>\n",
       "  </thead>\n",
       "  <tbody>\n",
       "    <tr>\n",
       "      <th>2</th>\n",
       "      <td>Saevarud</td>\n",
       "      <td>Music</td>\n",
       "      <td>Saev</td>\n",
       "      <td>43.907</td>\n",
       "      <td>280.462</td>\n",
       "    </tr>\n",
       "    <tr>\n",
       "      <th>5</th>\n",
       "      <td>Reich</td>\n",
       "      <td>Music</td>\n",
       "      <td>Reic</td>\n",
       "      <td>673.822</td>\n",
       "      <td>787.582</td>\n",
       "    </tr>\n",
       "    <tr>\n",
       "      <th>9</th>\n",
       "      <td>Arban</td>\n",
       "      <td>Music</td>\n",
       "      <td>Arba</td>\n",
       "      <td>860.595</td>\n",
       "      <td>1382.782</td>\n",
       "    </tr>\n",
       "    <tr>\n",
       "      <th>12</th>\n",
       "      <td>Grieg</td>\n",
       "      <td>Music</td>\n",
       "      <td>Grie</td>\n",
       "      <td>1431.390</td>\n",
       "      <td>1752.022</td>\n",
       "    </tr>\n",
       "    <tr>\n",
       "      <th>15</th>\n",
       "      <td>Tsjajkovskij</td>\n",
       "      <td>Music</td>\n",
       "      <td>Tcha</td>\n",
       "      <td>1858.478</td>\n",
       "      <td>2033.670</td>\n",
       "    </tr>\n",
       "    <tr>\n",
       "      <th>18</th>\n",
       "      <td>Christophersen</td>\n",
       "      <td>Music</td>\n",
       "      <td>Chri</td>\n",
       "      <td>2113.102</td>\n",
       "      <td>2492.982</td>\n",
       "    </tr>\n",
       "    <tr>\n",
       "      <th>22</th>\n",
       "      <td>Vivaldi</td>\n",
       "      <td>Music</td>\n",
       "      <td>Viva</td>\n",
       "      <td>2681.310</td>\n",
       "      <td>2918.702</td>\n",
       "    </tr>\n",
       "    <tr>\n",
       "      <th>27</th>\n",
       "      <td>Strauss</td>\n",
       "      <td>Music</td>\n",
       "      <td>Stra</td>\n",
       "      <td>3188.606</td>\n",
       "      <td>3334.334</td>\n",
       "    </tr>\n",
       "  </tbody>\n",
       "</table>\n",
       "</div>"
      ],
      "text/plain": [
       "             Event Event_Type Related     Start      Next\n",
       "2         Saevarud      Music    Saev    43.907   280.462\n",
       "5            Reich      Music    Reic   673.822   787.582\n",
       "9            Arban      Music    Arba   860.595  1382.782\n",
       "12           Grieg      Music    Grie  1431.390  1752.022\n",
       "15    Tsjajkovskij      Music    Tcha  1858.478  2033.670\n",
       "18  Christophersen      Music    Chri  2113.102  2492.982\n",
       "22         Vivaldi      Music    Viva  2681.310  2918.702\n",
       "27         Strauss      Music    Stra  3188.606  3334.334"
      ]
     },
     "execution_count": 21,
     "metadata": {},
     "output_type": "execute_result"
    }
   ],
   "source": [
    "datafile_type = 'Audio'\n",
    "concert = 'RD'\n",
    "piece = 'Full'\n",
    "audio_loc = '../Data/Audio/Full_Zero/' + concert + '_Leveled_Zero.wav'\n",
    "out_loc = '../Data/Audio/Piece_wise/'\n",
    "C_times = Piece_timings[['Event','Event_Type','Related']].copy()\n",
    "C_times['Start'] =  Piece_timings[concert]\n",
    "C_times = C_times.sort_values('Start')\n",
    "C_times = C_times.loc[C_times['Start']>-15,:].reset_index(drop = True).copy()\n",
    "C_times['Next'] = C_times.Start.shift(-1)\n",
    "M_times =  C_times.loc[C_times['Event_Type'] == 'Music',:]\n",
    "M_times"
   ]
  },
  {
   "cell_type": "code",
   "execution_count": 22,
   "metadata": {},
   "outputs": [
    {
     "name": "stdout",
     "output_type": "stream",
     "text": [
      "3373778\n"
     ]
    }
   ],
   "source": [
    "sound = AudioSegment.from_wav(audio_loc)\n",
    "#sound = AudioSegment.from_mp3(audio_loc)\n",
    "print(len(sound))"
   ]
  },
  {
   "cell_type": "code",
   "execution_count": 23,
   "metadata": {},
   "outputs": [],
   "source": [
    "# buffer is small, 1 second\n",
    "t_units = 1000  # pydub does things in milliseconds\n",
    "buff = 1 # in seconds\n",
    "for i in M_times.index:\n",
    "    Peice_tag = M_times.loc[i,'Related']\n",
    "    s_time = (M_times.loc[i,'Start']-buff) * t_units\n",
    "    e_time = (M_times.loc[i,'Next']+buff) * t_units\n",
    "    p_audio = sound[s_time:e_time]\n",
    "    out_audio = out_loc + concert + '_' + Peice_tag + '_1.mp3'\n",
    "    with open(out_audio, 'wb') as out_f:\n",
    "        p_audio.export(out_f, format='mp3')"
   ]
  },
  {
   "cell_type": "markdown",
   "metadata": {},
   "source": [
    "## get pre Arban audio"
   ]
  },
  {
   "cell_type": "code",
   "execution_count": 24,
   "metadata": {},
   "outputs": [
    {
     "data": {
      "text/html": [
       "<div>\n",
       "<style scoped>\n",
       "    .dataframe tbody tr th:only-of-type {\n",
       "        vertical-align: middle;\n",
       "    }\n",
       "\n",
       "    .dataframe tbody tr th {\n",
       "        vertical-align: top;\n",
       "    }\n",
       "\n",
       "    .dataframe thead th {\n",
       "        text-align: right;\n",
       "    }\n",
       "</style>\n",
       "<table border=\"1\" class=\"dataframe\">\n",
       "  <thead>\n",
       "    <tr style=\"text-align: right;\">\n",
       "      <th></th>\n",
       "      <th>Event</th>\n",
       "      <th>Event_Type</th>\n",
       "      <th>Related</th>\n",
       "      <th>RD</th>\n",
       "      <th>C1</th>\n",
       "      <th>C2</th>\n",
       "      <th>C3</th>\n",
       "      <th>C4</th>\n",
       "      <th>C5</th>\n",
       "    </tr>\n",
       "  </thead>\n",
       "  <tbody>\n",
       "    <tr>\n",
       "      <th>10</th>\n",
       "      <td>MC pre Arban</td>\n",
       "      <td>Speech</td>\n",
       "      <td>Arba</td>\n",
       "      <td>792.286</td>\n",
       "      <td>842.650</td>\n",
       "      <td>773.062</td>\n",
       "      <td>700.660</td>\n",
       "      <td>780.809</td>\n",
       "      <td>813.700</td>\n",
       "    </tr>\n",
       "    <tr>\n",
       "      <th>11</th>\n",
       "      <td>Applause for Florian</td>\n",
       "      <td>Applause</td>\n",
       "      <td>Arba</td>\n",
       "      <td>835.470</td>\n",
       "      <td>963.502</td>\n",
       "      <td>907.786</td>\n",
       "      <td>929.872</td>\n",
       "      <td>1004.009</td>\n",
       "      <td>997.015</td>\n",
       "    </tr>\n",
       "    <tr>\n",
       "      <th>12</th>\n",
       "      <td>Arban</td>\n",
       "      <td>Music</td>\n",
       "      <td>Arba</td>\n",
       "      <td>860.595</td>\n",
       "      <td>982.114</td>\n",
       "      <td>924.186</td>\n",
       "      <td>948.014</td>\n",
       "      <td>1045.313</td>\n",
       "      <td>1012.486</td>\n",
       "    </tr>\n",
       "    <tr>\n",
       "      <th>13</th>\n",
       "      <td>Applause for Arban</td>\n",
       "      <td>Applause</td>\n",
       "      <td>Arba</td>\n",
       "      <td>1382.782</td>\n",
       "      <td>1505.664</td>\n",
       "      <td>1453.954</td>\n",
       "      <td>1452.526</td>\n",
       "      <td>1538.147</td>\n",
       "      <td>1520.986</td>\n",
       "    </tr>\n",
       "  </tbody>\n",
       "</table>\n",
       "</div>"
      ],
      "text/plain": [
       "                   Event Event_Type Related        RD        C1        C2  \\\n",
       "10          MC pre Arban     Speech    Arba   792.286   842.650   773.062   \n",
       "11  Applause for Florian   Applause    Arba   835.470   963.502   907.786   \n",
       "12                 Arban      Music    Arba   860.595   982.114   924.186   \n",
       "13    Applause for Arban   Applause    Arba  1382.782  1505.664  1453.954   \n",
       "\n",
       "          C3        C4        C5  \n",
       "10   700.660   780.809   813.700  \n",
       "11   929.872  1004.009   997.015  \n",
       "12   948.014  1045.313  1012.486  \n",
       "13  1452.526  1538.147  1520.986  "
      ]
     },
     "execution_count": 24,
     "metadata": {},
     "output_type": "execute_result"
    }
   ],
   "source": [
    " Piece_timings.loc[Piece_timings['Related'] == 'Arba']"
   ]
  },
  {
   "cell_type": "code",
   "execution_count": 25,
   "metadata": {},
   "outputs": [],
   "source": [
    "buff = 1\n",
    "out_loc = '../Data/Audio/Piece_wise/'\n",
    "\n",
    "for concert in ['C1','C2','C3','C4','C5']:\n",
    "    audio_loc = '../Data/Audio/Full_Zero/' + concert + '_Leveled_Zero.wav'\n",
    "    sound = AudioSegment.from_wav(audio_loc)\n",
    "    s_time = (Piece_timings.loc[10,concert]-buff) * t_units\n",
    "    e_time = (Piece_timings.loc[11,concert]+buff) * t_units\n",
    "    p_audio = sound[s_time:e_time]\n",
    "    out_audio = out_loc + concert + '_MC_Pre_Arban_1.mp3'\n",
    "    with open(out_audio, 'wb') as out_f:\n",
    "        p_audio.export(out_f, format='mp3')"
   ]
  },
  {
   "cell_type": "code",
   "execution_count": null,
   "metadata": {},
   "outputs": [],
   "source": []
  }
 ],
 "metadata": {
  "kernelspec": {
   "display_name": "Python 3",
   "language": "python",
   "name": "python3"
  },
  "language_info": {
   "codemirror_mode": {
    "name": "ipython",
    "version": 3
   },
   "file_extension": ".py",
   "mimetype": "text/x-python",
   "name": "python",
   "nbconvert_exporter": "python",
   "pygments_lexer": "ipython3",
   "version": "3.9.0"
  }
 },
 "nbformat": 4,
 "nbformat_minor": 4
}
