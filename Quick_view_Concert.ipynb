{
 "cells": [
  {
   "cell_type": "markdown",
   "metadata": {},
   "source": [
    "# Quick view musicians movements\n",
    "Concert 1, slow ACC\n",
    "\n"
   ]
  },
  {
   "cell_type": "code",
   "execution_count": null,
   "metadata": {},
   "outputs": [],
   "source": [
    "import sys\n",
    "import os\n",
    "import time\n",
    "import datetime as dt\n",
    "import math\n",
    "import numpy as np \n",
    "import scipy as sp\n",
    "import pandas as pd\n",
    "import matplotlib.pyplot as plt\n",
    "import seaborn as sns\n",
    "# import heartpy as hp\n",
    "\n",
    "from scipy.signal import butter,filtfilt\n",
    "from scipy import interpolate\n",
    "from scipy.interpolate import interp1d"
   ]
  },
  {
   "cell_type": "code",
   "execution_count": null,
   "metadata": {},
   "outputs": [],
   "source": []
  },
  {
   "cell_type": "code",
   "execution_count": null,
   "metadata": {},
   "outputs": [],
   "source": [
    "%load_ext autoreload\n",
    "%autoreload 1\n",
    "%aimport qex"
   ]
  },
  {
   "cell_type": "code",
   "execution_count": null,
   "metadata": {},
   "outputs": [],
   "source": [
    "# location of the files when in one of the local project files\n",
    "projectName = 'Lydo_C1_C2' # this needs to match the project folder name\n",
    "path = \"../Data/Equivital/\"+projectName+\"/\"\n",
    "sep = '/'"
   ]
  },
  {
   "cell_type": "raw",
   "metadata": {},
   "source": [
    "[1, \"Synch\", 3:21.43\n",
    "2, \"Clap-Savarud\", 8:02.64\n",
    "3, \"Claps-Reich\", 17:13.61\n",
    "4, \"Claps-Arban\", 28:29.73\n",
    "5, \"Claps-Grieg\", 35:28:50\n",
    "6, \"Claps-Tchaikovsky\", 42:57:27\n",
    "7, \"Claps-Christopherson\", 50:34:71\n",
    "8, \"Claps-Vivaldi\", 59:48:61\n",
    "9, \"Claps-Strauss\", 65:53:36]"
   ]
  },
  {
   "cell_type": "code",
   "execution_count": null,
   "metadata": {
    "scrolled": false
   },
   "outputs": [],
   "source": [
    "df_datafiles = qex.qiosk_recordings(path,projectName,sep)\n",
    "df_datafiles.set_index('DevName',inplace=True)"
   ]
  },
  {
   "cell_type": "code",
   "execution_count": null,
   "metadata": {},
   "outputs": [],
   "source": [
    "player_order = ['VN102','VN107','VN106','VN108','VN101','VN105','VN103','VN104','VN205','VN203','VN202','VN206','VN209','VN210','VN207','VN208','VN201','VN204','VA305','VA307','VA308','VA301','VA306','VA302','VA303','VA304','LS406','LS407','LS408','LS405','LS401','LS403','LS402','LS410','LS404','WW505','WW502','WW503','WW506','WW501','WW504','WW507','BR604','BR603','BR602','BR606','BR607','BR605','BR601','PC704','PC705','PC703','PC701','PC702','PC707']\n",
    "#player_order = ['VN102','VN107','VN106','VN108','VN101','VN105','VN103','VN104','VN205','VN203','VN202','VN206','VN209','VN210','VN207','VN208','VN201','VN204','VA305','VA307','VA308','VA301','VA306','VA302','VA303','VA304','LS406','LS407','LS408','LS405','LS401','LS403','LS402','LS404','WW505','WW502','WW503','WW506','WW501','WW504','WW507','BR604','BR603','BR602','BR606','BR607','BR605','BR601','PC704','PC705','PC703','PC701','PC702','PC707']\n",
    "# 8,10,8,\n",
    "# 'Violin 1'\n",
    "# 'Violin 2'\n",
    "len(player_order)"
   ]
  },
  {
   "cell_type": "code",
   "execution_count": null,
   "metadata": {},
   "outputs": [],
   "source": [
    "df_datafiles = df_datafiles.loc[player_order]\n",
    "df_datafiles"
   ]
  },
  {
   "cell_type": "code",
   "execution_count": null,
   "metadata": {},
   "outputs": [],
   "source": [
    "# signal File type and column name (multi sample)\n",
    "signal_file_type = 'DATA'\n",
    "sigName = 'HR(BPM)'\n",
    "#sigName = 'TEMPERATURE'\n",
    "sample_period = 15 # seconds \n",
    "interval_name = 'Lydo_1'\n",
    "s_time = pd.to_datetime('2023-02-16 8:30:00+0000')\n",
    "e_time = pd.to_datetime('2023-02-16 9:40:00+0000')\n",
    "dur = (e_time - s_time).total_seconds()\n",
    "time_s =  np.round(np.arange(0,dur,sample_period),3)\n",
    "\n",
    "time_dt = s_time + pd.to_timedelta(time_s,unit='s')\n",
    "df_sig = pd.DataFrame(index = time_dt.format(formatter=lambda x: x.strftime('%H:%M:%S')))"
   ]
  },
  {
   "cell_type": "code",
   "execution_count": null,
   "metadata": {},
   "outputs": [],
   "source": [
    "3900/60"
   ]
  },
  {
   "cell_type": "code",
   "execution_count": null,
   "metadata": {},
   "outputs": [],
   "source": [
    "# signal File type and column name (multi sample)\n",
    "signal_file_type = 'DATA'\n",
    "sigName = 'HR(BPM)'\n",
    "#sigName = 'TEMPERATURE'\n",
    "sample_period = 15 # seconds \n",
    "interval_name = 'Lydo_2'\n",
    "s_time = pd.to_datetime('2023-02-16 10:15:00+0000')\n",
    "e_time = pd.to_datetime('2023-02-16 11:15:00+0000')\n",
    "dur = (e_time - s_time).total_seconds()\n",
    "time_s =  np.round(np.arange(0,dur,sample_period),3)\n",
    "\n",
    "time_dt = s_time + pd.to_timedelta(time_s,unit='s')\n",
    "df_sig = pd.DataFrame(index = time_dt.format(formatter=lambda x: x.strftime('%H:%M:%S')))"
   ]
  },
  {
   "cell_type": "code",
   "execution_count": null,
   "metadata": {},
   "outputs": [],
   "source": [
    "s_files = df_datafiles.copy()\n",
    "# recordings started before the recording interval\n",
    "s_files=s_files.loc[s_files['RecStart']< s_time,:] \n",
    "# recordings ended after the recording interval\n",
    "s_files=s_files.loc[s_files['RecEnd']> e_time,:] \n",
    "print(len(s_files))"
   ]
  },
  {
   "cell_type": "code",
   "execution_count": null,
   "metadata": {},
   "outputs": [],
   "source": [
    "# for most signals\n",
    "for i,row in s_files.iterrows():\n",
    "    dataFile = row['FullLoc']\n",
    "    PartName = i\n",
    "\n",
    "    sigFileLoc = []\n",
    "    matched = qex.matched_files(dataFile,path,sep)\n",
    "    for f in matched:\n",
    "        if signal_file_type in f:\n",
    "            sigFileLoc = f\n",
    "\n",
    "    if sigFileLoc:\n",
    "        V = pd.read_csv(sigFileLoc,skipinitialspace=True)\n",
    "        V['DateTime'] = pd.to_datetime(V['DateTime'])\n",
    "        sig_t = (V['DateTime'] - s_time).dt.total_seconds()\n",
    "        cols = V.columns\n",
    "        if sigName in cols:\n",
    "            sig_v = V[sigName]\n",
    "            f = interpolate.interp1d(sig_t, sig_v,fill_value='extrapolate')\n",
    "            new_sig = f(time_s)\n",
    "         #   if pd.Series(new_sig).diff().abs().sum()/len(new_sig)>1: # since th\n",
    "            df_sig.loc[:,PartName] = new_sig"
   ]
  },
  {
   "cell_type": "code",
   "execution_count": null,
   "metadata": {},
   "outputs": [],
   "source": [
    "Concert_times = pd.read_csv('./Timing/claps_lydo1_norge.csv',sep=\",\") #SV alignment for beeps\n",
    "Concert_times['TIME'] = 60*Concert_times['Minutes']+Concert_times['Seconds']\n",
    "Concert_times"
   ]
  },
  {
   "cell_type": "code",
   "execution_count": null,
   "metadata": {},
   "outputs": [],
   "source": [
    "new_yticks = [0,8,18,26,31,35,43,49,54]\n",
    "ytickLabels=['Violin 1','Violin 2','Viola','Cello','Bass','Woodwinds','Brass','Perc.','Conductor']\n"
   ]
  },
  {
   "cell_type": "code",
   "execution_count": null,
   "metadata": {},
   "outputs": [],
   "source": [
    "fig, (ax1) = plt.subplots(1, 1,figsize = [15,6])\n",
    "df_A = df_sig.diff()\n",
    "df_A.set_index(time_s,inplace=True)\n",
    "chart = sns.heatmap(data=df_A.transpose(), ax=ax1, vmin=-4, vmax=4, cbar=True,cmap=\"bwr\",alpha=0.8)\n",
    "#ax1.set_yticks([])\n",
    "#ax1.set_yticklabels([0,10])\n",
    "subtimes= Concert_times\n",
    "new_xticks = len(df_A)*(subtimes.TIME-df_A.index[0])/(df_A.index[-1]-df_A.index[0])\n",
    "ax1.set_xticks(new_xticks)\n",
    "ax1.set_xticklabels(subtimes.Event)\n",
    "ax1.set_yticks(new_yticks)\n",
    "ax1.set_yticklabels(ytickLabels)\n",
    "ax1.set_xlabel('Time (s)')\n",
    "ax1.set_ylabel('Sections')\n",
    "plt.grid(color='k')\n",
    "plt.title('Change in Heart rates (BPM) across musicians for first Lydo concert')\n",
    "plt.savefig('./plots/'+projectName+'_'+ interval_name+ '_set_'+sigName+'.png',bbox_inches = 'tight',dpi = 300)\n",
    "plt.show()"
   ]
  },
  {
   "cell_type": "code",
   "execution_count": null,
   "metadata": {},
   "outputs": [],
   "source": [
    "fig, (ax1) = plt.subplots(1, 1,figsize = [20,6])\n",
    "chart = sns.heatmap(data=df_sig.diff().transpose(), ax=ax1, vmin=-0.15, vmax=0.15, cbar=True,cmap=\"spring\",alpha=0.8)\n",
    "ax1.set_xticks(new_xticks)\n",
    "ax1.set_xticklabels(subtimes.Event)\n",
    "ax1.set_yticks(new_yticks)\n",
    "ax1.set_yticklabels(ytickLabels)\n",
    "ax1.set_ylabel('Time (s)')\n",
    "plt.grid(color='k')\n",
    "plt.title('Change in ' + sigName + ' for interval ' + interval_name)\n",
    "plt.savefig('./plots/'+projectName+'_'+ interval_name+ '_set_'+sigName+'.png',dpi = 300)\n",
    "plt.show()"
   ]
  },
  {
   "cell_type": "code",
   "execution_count": null,
   "metadata": {},
   "outputs": [],
   "source": []
  },
  {
   "cell_type": "markdown",
   "metadata": {},
   "source": [
    "Need to synchronise recording times to higher precision for other signals"
   ]
  },
  {
   "cell_type": "code",
   "execution_count": null,
   "metadata": {},
   "outputs": [],
   "source": [
    "# signal File type and column name (multi sample)\n",
    "signal_file_type = 'RESPACC'\n",
    "sigName = 'Breathing'\n",
    "sample_period = 0.1 # seconds \n",
    "interval_name = 'Lydo_1'\n",
    "s_time = pd.to_datetime('2023-02-16 8:30:00+0000')\n",
    "e_time = pd.to_datetime('2023-02-16 9:30:00+0000')\n",
    "dur = (e_time - s_time).total_seconds()\n",
    "time_s =  np.round(np.arange(0,dur,sample_period),3)\n",
    "\n",
    "time_dt = s_time + pd.to_timedelta(time_s,unit='s')\n",
    "df_sig = pd.DataFrame(index = time_dt.format(formatter=lambda x: x.strftime('%H:%M:%S')))"
   ]
  },
  {
   "cell_type": "code",
   "execution_count": null,
   "metadata": {},
   "outputs": [],
   "source": [
    "# for most signals\n",
    "for i,row in s_files.iterrows():\n",
    "    dataFile = row['FullLoc']\n",
    "    PartName = i\n",
    "\n",
    "    sigFileLoc = []\n",
    "    matched = qex.matched_files(dataFile,path,sep)\n",
    "    for f in matched:\n",
    "        if signal_file_type in f:\n",
    "            sigFileLoc = f\n",
    "\n",
    "    if sigFileLoc:\n",
    "        V = pd.read_csv(sigFileLoc,skipinitialspace=True)\n",
    "        V['DateTime'] = pd.to_datetime(V['DateTime'])\n",
    "        sig_t = (V['DateTime'] - s_time).dt.total_seconds()\n",
    "        cols = V.columns\n",
    "        if sigName in cols:\n",
    "            sig_v = V[sigName]\n",
    "            f = interpolate.interp1d(sig_t, sig_v,fill_value='extrapolate')\n",
    "            new_sig = f(time_s)\n",
    "         #   if pd.Series(new_sig).diff().abs().sum()/len(new_sig)>1: # since th\n",
    "            df_sig.loc[:,PartName] = new_sig"
   ]
  },
  {
   "cell_type": "code",
   "execution_count": null,
   "metadata": {},
   "outputs": [],
   "source": [
    "fig, (ax1) = plt.subplots(1, 1,figsize = [20,6])\n",
    "chart = sns.heatmap(data=df_sig.diff().transpose(), ax=ax1,vmin=-20, vmax=20,  cbar=True,cmap=\"bwr\",alpha=0.8)\n",
    "\n",
    "# chart = sns.heatmap(data=df_sig.transpose(), ax=ax1,vmin=40, vmax=120, cbar=True, cmap=\"YlGnBu\",alpha=0.8)\n",
    "#ax1.set_yticks([])\n",
    "plt.title(projectName + ' Change in ' + sigName + ' for interval ' + interval_name)\n",
    "plt.savefig('./plots/'+projectName+'_'+ interval_name+ '_set_'+sigName+'.png',dpi = 300)\n",
    "plt.show()"
   ]
  },
  {
   "cell_type": "markdown",
   "metadata": {},
   "source": [
    "# Synchronisation cue"
   ]
  },
  {
   "cell_type": "code",
   "execution_count": null,
   "metadata": {},
   "outputs": [],
   "source": [
    "cols"
   ]
  },
  {
   "cell_type": "code",
   "execution_count": null,
   "metadata": {},
   "outputs": [],
   "source": [
    "# signal File type and column name (multi sample)\n",
    "signal_file_type = 'FASTACC'\n",
    "sample_period = 0.05 # seconds \n",
    "interval_name = 'Lydo_1_Full'\n",
    "sigName = 'BodySway'\n",
    "s_time = pd.to_datetime('2023-02-16 8:30:00+0000')\n",
    "e_time = pd.to_datetime('2023-02-16 9:30:00+0000')\n",
    "dur = (e_time - s_time).total_seconds()\n",
    "time_s =  np.round(np.arange(0,dur,sample_period),3)\n",
    "\n",
    "time_dt = s_time + pd.to_timedelta(time_s,unit='s')\n",
    "df_sig = pd.DataFrame(index = time_dt.format(formatter=lambda x: x.strftime('%H:%M:%S')))"
   ]
  },
  {
   "cell_type": "code",
   "execution_count": null,
   "metadata": {},
   "outputs": [],
   "source": [
    "interval_name = 'Lydo_1_Full'\n"
   ]
  },
  {
   "cell_type": "code",
   "execution_count": null,
   "metadata": {},
   "outputs": [],
   "source": [
    "s_files = df_datafiles.copy()\n",
    "# recordings started before the recording interval\n",
    "s_files=s_files.loc[s_files['RecStart']< s_time,:] \n",
    "# recordings ended after the recording interval\n",
    "s_files=s_files.loc[s_files['RecEnd']> e_time,:] \n",
    "print(len(s_files))"
   ]
  },
  {
   "cell_type": "code",
   "execution_count": null,
   "metadata": {},
   "outputs": [],
   "source": [
    "sigName = 'Acc'"
   ]
  },
  {
   "cell_type": "code",
   "execution_count": null,
   "metadata": {},
   "outputs": [],
   "source": [
    "# for acceleration\n",
    "for i,row in s_files.iterrows():\n",
    "    dataFile = row['FullLoc']\n",
    "    PartName = i\n",
    "\n",
    "    sigFileLoc = []\n",
    "    matched = qex.matched_files(dataFile,path,sep)\n",
    "    for f in matched:\n",
    "        if signal_file_type in f:\n",
    "            sigFileLoc = f\n",
    "\n",
    "    if sigFileLoc:\n",
    "        V = pd.read_csv(sigFileLoc,skipinitialspace=True)\n",
    "        V['DateTime'] = pd.to_datetime(V['DateTime'])\n",
    "        sig_t = (V['DateTime'] - s_time).dt.total_seconds()\n",
    "        cols = V.columns\n",
    "        df = V.loc[:,[ 'Vert Accelerometer','Lat Accelerometer','Long Accelerometer']]\n",
    "        sig_v = np.sqrt(np.square(df.diff()).sum(axis=1))\n",
    "        f = interpolate.interp1d(sig_t,sig_v,fill_value='extrapolate')\n",
    "        new_sig = f(time_s)\n",
    "        if pd.Series(new_sig).diff().abs().sum()/len(new_sig)>1: # since th\n",
    "            df_sig.loc[:,PartName] = new_sig"
   ]
  },
  {
   "cell_type": "code",
   "execution_count": null,
   "metadata": {},
   "outputs": [],
   "source": [
    "fig, (ax1) = plt.subplots(1, 1,figsize = [20,6])\n",
    "sub_sig = df_sig\n",
    "chart = sns.heatmap(data=df_sig.transpose(), ax=ax1,vmin=5, vmax=30, cbar=True,cmap=\"YlGnBu\",alpha=0.8)\n",
    "\n",
    "# chart = sns.heatmap(data=df_sig.transpose(), ax=ax1,vmin=40, vmax=120, cbar=True, cmap=\"YlGnBu\",alpha=0.8)\n",
    "#ax1.set_yticks([])\n",
    "plt.title(projectName + ' ' + sigName + ' for interval ' + interval_name)\n",
    "plt.savefig('./plots/'+projectName+'_'+ interval_name+ '_set_'+sigName+'.png',dpi = 300)\n",
    "plt.show()"
   ]
  },
  {
   "cell_type": "code",
   "execution_count": null,
   "metadata": {},
   "outputs": [],
   "source": [
    "#df_sig.index=pd.to_datetime(df_sig.index)\n",
    "df_sig.index = time_dt\n",
    "df_sig.index"
   ]
  },
  {
   "cell_type": "code",
   "execution_count": null,
   "metadata": {},
   "outputs": [],
   "source": [
    "t1 = pd.to_datetime('2023-02-16 8:33:10.000+0000')\n",
    "t2 = pd.to_datetime('2023-02-16 8:34:10.000+0000')\n",
    "interval_name = 'Synch'"
   ]
  },
  {
   "cell_type": "code",
   "execution_count": null,
   "metadata": {},
   "outputs": [],
   "source": [
    "sub_sig = df_sig.loc[t1:t2,:].copy()\n",
    "sub_sig"
   ]
  },
  {
   "cell_type": "code",
   "execution_count": null,
   "metadata": {},
   "outputs": [],
   "source": [
    "fig, (ax1) = plt.subplots(1, 1,figsize = [20,6])\n",
    "chart = sns.heatmap(data=sub_sig.transpose(), ax=ax1,vmin=0, vmax=40, cbar=True,cmap=\"YlGnBu\",alpha=0.8)\n",
    "\n",
    "# chart = sns.heatmap(data=df_sig.transpose(), ax=ax1,vmin=40, vmax=120, cbar=True, cmap=\"YlGnBu\",alpha=0.8)\n",
    "#ax1.set_yticks([])\n",
    "plt.title(projectName + ' ' + sigName + ' for interval ' + interval_name)\n",
    "plt.savefig('./plots/'+projectName+'_'+ interval_name+ '_set_'+sigName+'.png',dpi = 300)\n",
    "plt.show()"
   ]
  },
  {
   "cell_type": "code",
   "execution_count": null,
   "metadata": {},
   "outputs": [],
   "source": [
    "df_sig.to_csv('./out_data/'+projectName+'_'+ interval_name+ '_set_'+sigName+'.csv')"
   ]
  },
  {
   "cell_type": "code",
   "execution_count": null,
   "metadata": {},
   "outputs": [],
   "source": [
    "Beeps at 8:33:20\n",
    "        so 3:20 = 200 s \n",
    "            \n",
    "            "
   ]
  }
 ],
 "metadata": {
  "kernelspec": {
   "display_name": "Python 3",
   "language": "python",
   "name": "python3"
  },
  "language_info": {
   "codemirror_mode": {
    "name": "ipython",
    "version": 3
   },
   "file_extension": ".py",
   "mimetype": "text/x-python",
   "name": "python",
   "nbconvert_exporter": "python",
   "pygments_lexer": "ipython3",
   "version": "3.9.0"
  }
 },
 "nbformat": 4,
 "nbformat_minor": 4
}
